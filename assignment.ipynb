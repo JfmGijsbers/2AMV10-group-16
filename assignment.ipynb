{
 "cells": [
  {
   "cell_type": "code",
   "execution_count": 1,
   "metadata": {},
   "outputs": [],
   "source": [
    "from data_preprocessing import read_data\n",
    "from model import Classifier"
   ]
  },
  {
   "cell_type": "code",
   "execution_count": 2,
   "metadata": {
    "tags": []
   },
   "outputs": [],
   "source": [
    "clf = Classifier()\n",
    "clf.load_data()\n"
   ]
  },
  {
   "cell_type": "code",
   "execution_count": null,
   "metadata": {},
   "outputs": [],
   "source": [
    "clf.show_images()"
   ]
  },
  {
   "cell_type": "code",
   "execution_count": 2,
   "metadata": {},
   "outputs": [],
   "source": [
    "import numpy as np\n",
    "from PIL import Image\n",
    "PATH=r\"C:\\Users\\Jeroen Gijsbers\\OneDrive - TU Eindhoven\\Uni\\Master\\Jaar 1\\Kwartiel 3\\2AMV10 - Visual Analytics\\Project\\2AMV10-group-16\"\n",
    "import os\n",
    "import sys\n",
    "sys.path.insert(0, PATH)\n",
    "import cv2"
   ]
  },
  {
   "cell_type": "code",
   "execution_count": 6,
   "metadata": {},
   "outputs": [
    {
     "output_type": "execute_result",
     "data": {
      "text/plain": [
       "(3456, 5184, 3)"
      ]
     },
     "metadata": {},
     "execution_count": 6
    }
   ],
   "source": [
    "import matplotlib.pyplot as plt\n",
    "img = cv2.imread('./data/trainingData/TrainingImages/birdCall/birdCall_1.jpg')\n",
    "#img = img[128:384, 128:384]\n",
    "img = img# / 510\n",
    "img.shape\n",
    "#plt.imshow(img)"
   ]
  }
 ],
 "metadata": {
  "interpreter": {
   "hash": "cafd94c04b8080062cfc909f933c7823bacfc2cde792218cef832498760380e2"
  },
  "kernelspec": {
   "name": "python3",
   "display_name": "Python 3.9.10 64-bit",
   "metadata": {
    "interpreter": {
     "hash": "bb8c43e82f35742f19efcdc7a7dc38b7799efd14d902f4c4233927ddd7226b44"
    }
   }
  },
  "language_info": {
   "codemirror_mode": {
    "name": "ipython",
    "version": 3
   },
   "file_extension": ".py",
   "mimetype": "text/x-python",
   "name": "python",
   "nbconvert_exporter": "python",
   "pygments_lexer": "ipython3",
   "version": "3.9.10-final"
  },
  "orig_nbformat": 4
 },
 "nbformat": 4,
 "nbformat_minor": 2
}